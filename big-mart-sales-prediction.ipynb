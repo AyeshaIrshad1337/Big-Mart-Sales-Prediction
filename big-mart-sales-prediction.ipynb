{
 "cells": [
  {
   "cell_type": "code",
   "execution_count": 1,
   "id": "b98db5d7",
   "metadata": {
    "_cell_guid": "b1076dfc-b9ad-4769-8c92-a6c4dae69d19",
    "_uuid": "8f2839f25d086af736a60e9eeb907d3b93b6e0e5",
    "execution": {
     "iopub.execute_input": "2023-08-01T13:53:21.049058Z",
     "iopub.status.busy": "2023-08-01T13:53:21.048575Z",
     "iopub.status.idle": "2023-08-01T13:53:21.073886Z",
     "shell.execute_reply": "2023-08-01T13:53:21.072106Z"
    },
    "papermill": {
     "duration": 0.041547,
     "end_time": "2023-08-01T13:53:21.077833",
     "exception": false,
     "start_time": "2023-08-01T13:53:21.036286",
     "status": "completed"
    },
    "tags": []
   },
   "outputs": [
    {
     "name": "stdout",
     "output_type": "stream",
     "text": [
      "/kaggle/input/bigmart-sales-data/Train.csv\n",
      "/kaggle/input/bigmart-sales-data/Test.csv\n"
     ]
    }
   ],
   "source": [
    "# This Python 3 environment comes with many helpful analytics libraries installed\n",
    "# It is defined by the kaggle/python Docker image: https://github.com/kaggle/docker-python\n",
    "# For example, here's several helpful packages to load\n",
    "\n",
    "import numpy as np # linear algebra\n",
    "import pandas as pd # data processing, CSV file I/O (e.g. pd.read_csv)\n",
    "\n",
    "# Input data files are available in the read-only \"../input/\" directory\n",
    "# For example, running this (by clicking run or pressing Shift+Enter) will list all files under the input directory\n",
    "\n",
    "import os\n",
    "for dirname, _, filenames in os.walk('/kaggle/input'):\n",
    "    for filename in filenames:\n",
    "        print(os.path.join(dirname, filename))\n",
    "\n",
    "# You can write up to 20GB to the current directory (/kaggle/working/) that gets preserved as output when you create a version using \"Save & Run All\" \n",
    "# You can also write temporary files to /kaggle/temp/, but they won't be saved outside of the current session"
   ]
  },
  {
   "cell_type": "code",
   "execution_count": 2,
   "id": "a3189d5b",
   "metadata": {
    "execution": {
     "iopub.execute_input": "2023-08-01T13:53:21.104724Z",
     "iopub.status.busy": "2023-08-01T13:53:21.104074Z",
     "iopub.status.idle": "2023-08-01T13:53:21.227585Z",
     "shell.execute_reply": "2023-08-01T13:53:21.226079Z"
    },
    "papermill": {
     "duration": 0.139023,
     "end_time": "2023-08-01T13:53:21.231299",
     "exception": false,
     "start_time": "2023-08-01T13:53:21.092276",
     "status": "completed"
    },
    "tags": []
   },
   "outputs": [],
   "source": [
    "test=pd.read_csv(\"/kaggle/input/bigmart-sales-data/Test.csv\")\n",
    "train=pd.read_csv(\"/kaggle/input/bigmart-sales-data/Train.csv\")"
   ]
  },
  {
   "cell_type": "code",
   "execution_count": 3,
   "id": "8bcc2bf3",
   "metadata": {
    "execution": {
     "iopub.execute_input": "2023-08-01T13:53:21.258208Z",
     "iopub.status.busy": "2023-08-01T13:53:21.257042Z",
     "iopub.status.idle": "2023-08-01T13:53:21.296962Z",
     "shell.execute_reply": "2023-08-01T13:53:21.295398Z"
    },
    "papermill": {
     "duration": 0.058371,
     "end_time": "2023-08-01T13:53:21.300173",
     "exception": false,
     "start_time": "2023-08-01T13:53:21.241802",
     "status": "completed"
    },
    "tags": []
   },
   "outputs": [
    {
     "data": {
      "text/html": [
       "<div>\n",
       "<style scoped>\n",
       "    .dataframe tbody tr th:only-of-type {\n",
       "        vertical-align: middle;\n",
       "    }\n",
       "\n",
       "    .dataframe tbody tr th {\n",
       "        vertical-align: top;\n",
       "    }\n",
       "\n",
       "    .dataframe thead th {\n",
       "        text-align: right;\n",
       "    }\n",
       "</style>\n",
       "<table border=\"1\" class=\"dataframe\">\n",
       "  <thead>\n",
       "    <tr style=\"text-align: right;\">\n",
       "      <th></th>\n",
       "      <th>Item_Identifier</th>\n",
       "      <th>Item_Weight</th>\n",
       "      <th>Item_Fat_Content</th>\n",
       "      <th>Item_Visibility</th>\n",
       "      <th>Item_Type</th>\n",
       "      <th>Item_MRP</th>\n",
       "      <th>Outlet_Identifier</th>\n",
       "      <th>Outlet_Establishment_Year</th>\n",
       "      <th>Outlet_Size</th>\n",
       "      <th>Outlet_Location_Type</th>\n",
       "      <th>Outlet_Type</th>\n",
       "    </tr>\n",
       "  </thead>\n",
       "  <tbody>\n",
       "    <tr>\n",
       "      <th>0</th>\n",
       "      <td>FDW58</td>\n",
       "      <td>20.750</td>\n",
       "      <td>Low Fat</td>\n",
       "      <td>0.007565</td>\n",
       "      <td>Snack Foods</td>\n",
       "      <td>107.8622</td>\n",
       "      <td>OUT049</td>\n",
       "      <td>1999</td>\n",
       "      <td>Medium</td>\n",
       "      <td>Tier 1</td>\n",
       "      <td>Supermarket Type1</td>\n",
       "    </tr>\n",
       "    <tr>\n",
       "      <th>1</th>\n",
       "      <td>FDW14</td>\n",
       "      <td>8.300</td>\n",
       "      <td>reg</td>\n",
       "      <td>0.038428</td>\n",
       "      <td>Dairy</td>\n",
       "      <td>87.3198</td>\n",
       "      <td>OUT017</td>\n",
       "      <td>2007</td>\n",
       "      <td>NaN</td>\n",
       "      <td>Tier 2</td>\n",
       "      <td>Supermarket Type1</td>\n",
       "    </tr>\n",
       "    <tr>\n",
       "      <th>2</th>\n",
       "      <td>NCN55</td>\n",
       "      <td>14.600</td>\n",
       "      <td>Low Fat</td>\n",
       "      <td>0.099575</td>\n",
       "      <td>Others</td>\n",
       "      <td>241.7538</td>\n",
       "      <td>OUT010</td>\n",
       "      <td>1998</td>\n",
       "      <td>NaN</td>\n",
       "      <td>Tier 3</td>\n",
       "      <td>Grocery Store</td>\n",
       "    </tr>\n",
       "    <tr>\n",
       "      <th>3</th>\n",
       "      <td>FDQ58</td>\n",
       "      <td>7.315</td>\n",
       "      <td>Low Fat</td>\n",
       "      <td>0.015388</td>\n",
       "      <td>Snack Foods</td>\n",
       "      <td>155.0340</td>\n",
       "      <td>OUT017</td>\n",
       "      <td>2007</td>\n",
       "      <td>NaN</td>\n",
       "      <td>Tier 2</td>\n",
       "      <td>Supermarket Type1</td>\n",
       "    </tr>\n",
       "    <tr>\n",
       "      <th>4</th>\n",
       "      <td>FDY38</td>\n",
       "      <td>NaN</td>\n",
       "      <td>Regular</td>\n",
       "      <td>0.118599</td>\n",
       "      <td>Dairy</td>\n",
       "      <td>234.2300</td>\n",
       "      <td>OUT027</td>\n",
       "      <td>1985</td>\n",
       "      <td>Medium</td>\n",
       "      <td>Tier 3</td>\n",
       "      <td>Supermarket Type3</td>\n",
       "    </tr>\n",
       "  </tbody>\n",
       "</table>\n",
       "</div>"
      ],
      "text/plain": [
       "  Item_Identifier  Item_Weight Item_Fat_Content  Item_Visibility    Item_Type  \\\n",
       "0           FDW58       20.750          Low Fat         0.007565  Snack Foods   \n",
       "1           FDW14        8.300              reg         0.038428        Dairy   \n",
       "2           NCN55       14.600          Low Fat         0.099575       Others   \n",
       "3           FDQ58        7.315          Low Fat         0.015388  Snack Foods   \n",
       "4           FDY38          NaN          Regular         0.118599        Dairy   \n",
       "\n",
       "   Item_MRP Outlet_Identifier  Outlet_Establishment_Year Outlet_Size  \\\n",
       "0  107.8622            OUT049                       1999      Medium   \n",
       "1   87.3198            OUT017                       2007         NaN   \n",
       "2  241.7538            OUT010                       1998         NaN   \n",
       "3  155.0340            OUT017                       2007         NaN   \n",
       "4  234.2300            OUT027                       1985      Medium   \n",
       "\n",
       "  Outlet_Location_Type        Outlet_Type  \n",
       "0               Tier 1  Supermarket Type1  \n",
       "1               Tier 2  Supermarket Type1  \n",
       "2               Tier 3      Grocery Store  \n",
       "3               Tier 2  Supermarket Type1  \n",
       "4               Tier 3  Supermarket Type3  "
      ]
     },
     "execution_count": 3,
     "metadata": {},
     "output_type": "execute_result"
    }
   ],
   "source": [
    "test.head()"
   ]
  },
  {
   "cell_type": "code",
   "execution_count": 4,
   "id": "11b65a75",
   "metadata": {
    "execution": {
     "iopub.execute_input": "2023-08-01T13:53:21.323934Z",
     "iopub.status.busy": "2023-08-01T13:53:21.322727Z",
     "iopub.status.idle": "2023-08-01T13:53:21.344886Z",
     "shell.execute_reply": "2023-08-01T13:53:21.343848Z"
    },
    "papermill": {
     "duration": 0.039128,
     "end_time": "2023-08-01T13:53:21.348769",
     "exception": false,
     "start_time": "2023-08-01T13:53:21.309641",
     "status": "completed"
    },
    "tags": []
   },
   "outputs": [
    {
     "data": {
      "text/html": [
       "<div>\n",
       "<style scoped>\n",
       "    .dataframe tbody tr th:only-of-type {\n",
       "        vertical-align: middle;\n",
       "    }\n",
       "\n",
       "    .dataframe tbody tr th {\n",
       "        vertical-align: top;\n",
       "    }\n",
       "\n",
       "    .dataframe thead th {\n",
       "        text-align: right;\n",
       "    }\n",
       "</style>\n",
       "<table border=\"1\" class=\"dataframe\">\n",
       "  <thead>\n",
       "    <tr style=\"text-align: right;\">\n",
       "      <th></th>\n",
       "      <th>Item_Identifier</th>\n",
       "      <th>Item_Weight</th>\n",
       "      <th>Item_Fat_Content</th>\n",
       "      <th>Item_Visibility</th>\n",
       "      <th>Item_Type</th>\n",
       "      <th>Item_MRP</th>\n",
       "      <th>Outlet_Identifier</th>\n",
       "      <th>Outlet_Establishment_Year</th>\n",
       "      <th>Outlet_Size</th>\n",
       "      <th>Outlet_Location_Type</th>\n",
       "      <th>Outlet_Type</th>\n",
       "      <th>Item_Outlet_Sales</th>\n",
       "    </tr>\n",
       "  </thead>\n",
       "  <tbody>\n",
       "    <tr>\n",
       "      <th>0</th>\n",
       "      <td>FDA15</td>\n",
       "      <td>9.30</td>\n",
       "      <td>Low Fat</td>\n",
       "      <td>0.016047</td>\n",
       "      <td>Dairy</td>\n",
       "      <td>249.8092</td>\n",
       "      <td>OUT049</td>\n",
       "      <td>1999</td>\n",
       "      <td>Medium</td>\n",
       "      <td>Tier 1</td>\n",
       "      <td>Supermarket Type1</td>\n",
       "      <td>3735.1380</td>\n",
       "    </tr>\n",
       "    <tr>\n",
       "      <th>1</th>\n",
       "      <td>DRC01</td>\n",
       "      <td>5.92</td>\n",
       "      <td>Regular</td>\n",
       "      <td>0.019278</td>\n",
       "      <td>Soft Drinks</td>\n",
       "      <td>48.2692</td>\n",
       "      <td>OUT018</td>\n",
       "      <td>2009</td>\n",
       "      <td>Medium</td>\n",
       "      <td>Tier 3</td>\n",
       "      <td>Supermarket Type2</td>\n",
       "      <td>443.4228</td>\n",
       "    </tr>\n",
       "    <tr>\n",
       "      <th>2</th>\n",
       "      <td>FDN15</td>\n",
       "      <td>17.50</td>\n",
       "      <td>Low Fat</td>\n",
       "      <td>0.016760</td>\n",
       "      <td>Meat</td>\n",
       "      <td>141.6180</td>\n",
       "      <td>OUT049</td>\n",
       "      <td>1999</td>\n",
       "      <td>Medium</td>\n",
       "      <td>Tier 1</td>\n",
       "      <td>Supermarket Type1</td>\n",
       "      <td>2097.2700</td>\n",
       "    </tr>\n",
       "    <tr>\n",
       "      <th>3</th>\n",
       "      <td>FDX07</td>\n",
       "      <td>19.20</td>\n",
       "      <td>Regular</td>\n",
       "      <td>0.000000</td>\n",
       "      <td>Fruits and Vegetables</td>\n",
       "      <td>182.0950</td>\n",
       "      <td>OUT010</td>\n",
       "      <td>1998</td>\n",
       "      <td>NaN</td>\n",
       "      <td>Tier 3</td>\n",
       "      <td>Grocery Store</td>\n",
       "      <td>732.3800</td>\n",
       "    </tr>\n",
       "    <tr>\n",
       "      <th>4</th>\n",
       "      <td>NCD19</td>\n",
       "      <td>8.93</td>\n",
       "      <td>Low Fat</td>\n",
       "      <td>0.000000</td>\n",
       "      <td>Household</td>\n",
       "      <td>53.8614</td>\n",
       "      <td>OUT013</td>\n",
       "      <td>1987</td>\n",
       "      <td>High</td>\n",
       "      <td>Tier 3</td>\n",
       "      <td>Supermarket Type1</td>\n",
       "      <td>994.7052</td>\n",
       "    </tr>\n",
       "  </tbody>\n",
       "</table>\n",
       "</div>"
      ],
      "text/plain": [
       "  Item_Identifier  Item_Weight Item_Fat_Content  Item_Visibility  \\\n",
       "0           FDA15         9.30          Low Fat         0.016047   \n",
       "1           DRC01         5.92          Regular         0.019278   \n",
       "2           FDN15        17.50          Low Fat         0.016760   \n",
       "3           FDX07        19.20          Regular         0.000000   \n",
       "4           NCD19         8.93          Low Fat         0.000000   \n",
       "\n",
       "               Item_Type  Item_MRP Outlet_Identifier  \\\n",
       "0                  Dairy  249.8092            OUT049   \n",
       "1            Soft Drinks   48.2692            OUT018   \n",
       "2                   Meat  141.6180            OUT049   \n",
       "3  Fruits and Vegetables  182.0950            OUT010   \n",
       "4              Household   53.8614            OUT013   \n",
       "\n",
       "   Outlet_Establishment_Year Outlet_Size Outlet_Location_Type  \\\n",
       "0                       1999      Medium               Tier 1   \n",
       "1                       2009      Medium               Tier 3   \n",
       "2                       1999      Medium               Tier 1   \n",
       "3                       1998         NaN               Tier 3   \n",
       "4                       1987        High               Tier 3   \n",
       "\n",
       "         Outlet_Type  Item_Outlet_Sales  \n",
       "0  Supermarket Type1          3735.1380  \n",
       "1  Supermarket Type2           443.4228  \n",
       "2  Supermarket Type1          2097.2700  \n",
       "3      Grocery Store           732.3800  \n",
       "4  Supermarket Type1           994.7052  "
      ]
     },
     "execution_count": 4,
     "metadata": {},
     "output_type": "execute_result"
    }
   ],
   "source": [
    "train.head()"
   ]
  },
  {
   "cell_type": "code",
   "execution_count": 5,
   "id": "897e34bd",
   "metadata": {
    "execution": {
     "iopub.execute_input": "2023-08-01T13:53:21.379858Z",
     "iopub.status.busy": "2023-08-01T13:53:21.378856Z",
     "iopub.status.idle": "2023-08-01T13:53:21.442597Z",
     "shell.execute_reply": "2023-08-01T13:53:21.440369Z"
    },
    "papermill": {
     "duration": 0.083889,
     "end_time": "2023-08-01T13:53:21.446703",
     "exception": false,
     "start_time": "2023-08-01T13:53:21.362814",
     "status": "completed"
    },
    "tags": []
   },
   "outputs": [
    {
     "name": "stdout",
     "output_type": "stream",
     "text": [
      "<class 'pandas.core.frame.DataFrame'>\n",
      "RangeIndex: 8523 entries, 0 to 8522\n",
      "Data columns (total 12 columns):\n",
      " #   Column                     Non-Null Count  Dtype  \n",
      "---  ------                     --------------  -----  \n",
      " 0   Item_Identifier            8523 non-null   object \n",
      " 1   Item_Weight                7060 non-null   float64\n",
      " 2   Item_Fat_Content           8523 non-null   object \n",
      " 3   Item_Visibility            8523 non-null   float64\n",
      " 4   Item_Type                  8523 non-null   object \n",
      " 5   Item_MRP                   8523 non-null   float64\n",
      " 6   Outlet_Identifier          8523 non-null   object \n",
      " 7   Outlet_Establishment_Year  8523 non-null   int64  \n",
      " 8   Outlet_Size                6113 non-null   object \n",
      " 9   Outlet_Location_Type       8523 non-null   object \n",
      " 10  Outlet_Type                8523 non-null   object \n",
      " 11  Item_Outlet_Sales          8523 non-null   float64\n",
      "dtypes: float64(4), int64(1), object(7)\n",
      "memory usage: 799.2+ KB\n"
     ]
    }
   ],
   "source": [
    "train.info()"
   ]
  },
  {
   "cell_type": "code",
   "execution_count": 6,
   "id": "d0eb0c35",
   "metadata": {
    "execution": {
     "iopub.execute_input": "2023-08-01T13:53:21.477459Z",
     "iopub.status.busy": "2023-08-01T13:53:21.476811Z",
     "iopub.status.idle": "2023-08-01T13:53:23.837231Z",
     "shell.execute_reply": "2023-08-01T13:53:23.835532Z"
    },
    "papermill": {
     "duration": 2.380295,
     "end_time": "2023-08-01T13:53:23.841255",
     "exception": false,
     "start_time": "2023-08-01T13:53:21.460960",
     "status": "completed"
    },
    "tags": []
   },
   "outputs": [
    {
     "name": "stderr",
     "output_type": "stream",
     "text": [
      "/opt/conda/lib/python3.10/site-packages/scipy/__init__.py:146: UserWarning: A NumPy version >=1.16.5 and <1.23.0 is required for this version of SciPy (detected version 1.23.5\n",
      "  warnings.warn(f\"A NumPy version >={np_minversion} and <{np_maxversion}\"\n"
     ]
    }
   ],
   "source": [
    "\n",
    "import matplotlib.pyplot as plt\n",
    "import seaborn as sns\n",
    "from sklearn.preprocessing import LabelEncoder\n",
    "from sklearn.model_selection import train_test_split\n",
    "from xgboost import XGBRegressor\n",
    "from sklearn import metrics"
   ]
  },
  {
   "cell_type": "code",
   "execution_count": 7,
   "id": "9808d4e1",
   "metadata": {
    "execution": {
     "iopub.execute_input": "2023-08-01T13:53:23.864372Z",
     "iopub.status.busy": "2023-08-01T13:53:23.863557Z",
     "iopub.status.idle": "2023-08-01T13:53:23.871723Z",
     "shell.execute_reply": "2023-08-01T13:53:23.870391Z"
    },
    "papermill": {
     "duration": 0.023176,
     "end_time": "2023-08-01T13:53:23.874263",
     "exception": false,
     "start_time": "2023-08-01T13:53:23.851087",
     "status": "completed"
    },
    "tags": []
   },
   "outputs": [
    {
     "data": {
      "text/plain": [
       "(8523, 12)"
      ]
     },
     "execution_count": 7,
     "metadata": {},
     "output_type": "execute_result"
    }
   ],
   "source": [
    "train.shape"
   ]
  },
  {
   "cell_type": "code",
   "execution_count": 8,
   "id": "56781ebf",
   "metadata": {
    "execution": {
     "iopub.execute_input": "2023-08-01T13:53:23.898724Z",
     "iopub.status.busy": "2023-08-01T13:53:23.897867Z",
     "iopub.status.idle": "2023-08-01T13:53:23.928921Z",
     "shell.execute_reply": "2023-08-01T13:53:23.927526Z"
    },
    "papermill": {
     "duration": 0.046126,
     "end_time": "2023-08-01T13:53:23.932077",
     "exception": false,
     "start_time": "2023-08-01T13:53:23.885951",
     "status": "completed"
    },
    "tags": []
   },
   "outputs": [
    {
     "data": {
      "text/plain": [
       "Item_Identifier                 0\n",
       "Item_Weight                  1463\n",
       "Item_Fat_Content                0\n",
       "Item_Visibility                 0\n",
       "Item_Type                       0\n",
       "Item_MRP                        0\n",
       "Outlet_Identifier               0\n",
       "Outlet_Establishment_Year       0\n",
       "Outlet_Size                  2410\n",
       "Outlet_Location_Type            0\n",
       "Outlet_Type                     0\n",
       "Item_Outlet_Sales               0\n",
       "dtype: int64"
      ]
     },
     "execution_count": 8,
     "metadata": {},
     "output_type": "execute_result"
    }
   ],
   "source": [
    "train.isnull().sum()"
   ]
  },
  {
   "cell_type": "markdown",
   "id": "fbb68265",
   "metadata": {
    "papermill": {
     "duration": 0.009617,
     "end_time": "2023-08-01T13:53:23.951944",
     "exception": false,
     "start_time": "2023-08-01T13:53:23.942327",
     "status": "completed"
    },
    "tags": []
   },
   "source": [
    "# Handling Missing Values"
   ]
  },
  {
   "cell_type": "markdown",
   "id": "f650ce15",
   "metadata": {
    "papermill": {
     "duration": 0.009693,
     "end_time": "2023-08-01T13:53:23.972361",
     "exception": false,
     "start_time": "2023-08-01T13:53:23.962668",
     "status": "completed"
    },
    "tags": []
   },
   "source": [
    "We are gonna handle these missing values by using mean and mode"
   ]
  },
  {
   "cell_type": "code",
   "execution_count": 9,
   "id": "bc8038c9",
   "metadata": {
    "execution": {
     "iopub.execute_input": "2023-08-01T13:53:23.995045Z",
     "iopub.status.busy": "2023-08-01T13:53:23.994559Z",
     "iopub.status.idle": "2023-08-01T13:53:24.004840Z",
     "shell.execute_reply": "2023-08-01T13:53:24.002900Z"
    },
    "papermill": {
     "duration": 0.025555,
     "end_time": "2023-08-01T13:53:24.007838",
     "exception": false,
     "start_time": "2023-08-01T13:53:23.982283",
     "status": "completed"
    },
    "tags": []
   },
   "outputs": [
    {
     "name": "stdout",
     "output_type": "stream",
     "text": [
      "Item Weight :  12.857645184135976\n"
     ]
    }
   ],
   "source": [
    "print(\"Item Weight : \",train[\"Item_Weight\"].mean())\n",
    "train[\"Item_Weight\"]=train[\"Item_Weight\"].fillna(train[\"Item_Weight\"].mean())"
   ]
  },
  {
   "cell_type": "markdown",
   "id": "cf68cda4",
   "metadata": {
    "papermill": {
     "duration": 0.009968,
     "end_time": "2023-08-01T13:53:24.028036",
     "exception": false,
     "start_time": "2023-08-01T13:53:24.018068",
     "status": "completed"
    },
    "tags": []
   },
   "source": [
    "Now Analyzing the Outlet size to handle its null values"
   ]
  },
  {
   "cell_type": "code",
   "execution_count": 10,
   "id": "13750475",
   "metadata": {
    "execution": {
     "iopub.execute_input": "2023-08-01T13:53:24.053586Z",
     "iopub.status.busy": "2023-08-01T13:53:24.052112Z",
     "iopub.status.idle": "2023-08-01T13:53:24.064370Z",
     "shell.execute_reply": "2023-08-01T13:53:24.063001Z"
    },
    "papermill": {
     "duration": 0.026998,
     "end_time": "2023-08-01T13:53:24.067136",
     "exception": false,
     "start_time": "2023-08-01T13:53:24.040138",
     "status": "completed"
    },
    "tags": []
   },
   "outputs": [
    {
     "data": {
      "text/plain": [
       "Medium    2793\n",
       "Small     2388\n",
       "High       932\n",
       "Name: Outlet_Size, dtype: int64"
      ]
     },
     "execution_count": 10,
     "metadata": {},
     "output_type": "execute_result"
    }
   ],
   "source": [
    "train['Outlet_Size'].value_counts()"
   ]
  },
  {
   "cell_type": "code",
   "execution_count": 11,
   "id": "5170373f",
   "metadata": {
    "execution": {
     "iopub.execute_input": "2023-08-01T13:53:24.090800Z",
     "iopub.status.busy": "2023-08-01T13:53:24.090202Z",
     "iopub.status.idle": "2023-08-01T13:53:24.102907Z",
     "shell.execute_reply": "2023-08-01T13:53:24.101336Z"
    },
    "papermill": {
     "duration": 0.028436,
     "end_time": "2023-08-01T13:53:24.106096",
     "exception": false,
     "start_time": "2023-08-01T13:53:24.077660",
     "status": "completed"
    },
    "tags": []
   },
   "outputs": [
    {
     "data": {
      "text/plain": [
       "0    Medium\n",
       "1    Medium\n",
       "2    Medium\n",
       "3       NaN\n",
       "4      High\n",
       "Name: Outlet_Size, dtype: object"
      ]
     },
     "execution_count": 11,
     "metadata": {},
     "output_type": "execute_result"
    }
   ],
   "source": [
    "train[\"Outlet_Size\"].head()"
   ]
  },
  {
   "cell_type": "markdown",
   "id": "20c4627a",
   "metadata": {
    "papermill": {
     "duration": 0.010385,
     "end_time": "2023-08-01T13:53:24.127141",
     "exception": false,
     "start_time": "2023-08-01T13:53:24.116756",
     "status": "completed"
    },
    "tags": []
   },
   "source": [
    "As we can see in above cell that its in categorical form thats why we will use mode for dealing it"
   ]
  },
  {
   "cell_type": "code",
   "execution_count": 12,
   "id": "c156a094",
   "metadata": {
    "execution": {
     "iopub.execute_input": "2023-08-01T13:53:24.150913Z",
     "iopub.status.busy": "2023-08-01T13:53:24.150416Z",
     "iopub.status.idle": "2023-08-01T13:53:24.181834Z",
     "shell.execute_reply": "2023-08-01T13:53:24.180529Z"
    },
    "papermill": {
     "duration": 0.047244,
     "end_time": "2023-08-01T13:53:24.185079",
     "exception": false,
     "start_time": "2023-08-01T13:53:24.137835",
     "status": "completed"
    },
    "tags": []
   },
   "outputs": [
    {
     "name": "stdout",
     "output_type": "stream",
     "text": [
      "Mode of Outlet Size column :  0    Medium\n",
      "Name: Outlet_Size, dtype: object\n",
      "\n",
      "Mode of Outlet size : \n",
      " Outlet_Type Grocery Store Supermarket Type1 Supermarket Type2  \\\n",
      "Outlet_Size         Small             Small            Medium   \n",
      "\n",
      "Outlet_Type Supermarket Type3  \n",
      "Outlet_Size            Medium  \n"
     ]
    }
   ],
   "source": [
    "print(\"Mode of Outlet Size column : \",train[\"Outlet_Size\"].mode())\n",
    "# filling the missing values in \"Outlet_Size\" column with Mode\n",
    "mode_of_Outlet_size = train.pivot_table(values='Outlet_Size', columns='Outlet_Type', aggfunc=(lambda x: x.mode()[0]))\n",
    "# printing the mode of Outlet size\n",
    "print(\"\\nMode of Outlet size : \\n\",mode_of_Outlet_size)"
   ]
  },
  {
   "cell_type": "markdown",
   "id": "90af3dd4",
   "metadata": {
    "papermill": {
     "duration": 0.010507,
     "end_time": "2023-08-01T13:53:24.206254",
     "exception": false,
     "start_time": "2023-08-01T13:53:24.195747",
     "status": "completed"
    },
    "tags": []
   },
   "source": [
    "As you can see it has arranged or you can say fixed the outlet size according to Outlet Type"
   ]
  },
  {
   "cell_type": "markdown",
   "id": "f7ce8bc7",
   "metadata": {
    "papermill": {
     "duration": 0.010347,
     "end_time": "2023-08-01T13:53:24.227269",
     "exception": false,
     "start_time": "2023-08-01T13:53:24.216922",
     "status": "completed"
    },
    "tags": []
   },
   "source": [
    "Now we will find the missing rows and according to there type, we will fill the outlet size column"
   ]
  },
  {
   "cell_type": "code",
   "execution_count": 13,
   "id": "6c98000f",
   "metadata": {
    "execution": {
     "iopub.execute_input": "2023-08-01T13:53:24.251631Z",
     "iopub.status.busy": "2023-08-01T13:53:24.250800Z",
     "iopub.status.idle": "2023-08-01T13:53:24.258196Z",
     "shell.execute_reply": "2023-08-01T13:53:24.256891Z"
    },
    "papermill": {
     "duration": 0.02275,
     "end_time": "2023-08-01T13:53:24.261005",
     "exception": false,
     "start_time": "2023-08-01T13:53:24.238255",
     "status": "completed"
    },
    "tags": []
   },
   "outputs": [],
   "source": [
    "miss_values = train['Outlet_Size'].isnull()   "
   ]
  },
  {
   "cell_type": "code",
   "execution_count": 14,
   "id": "7da64e91",
   "metadata": {
    "execution": {
     "iopub.execute_input": "2023-08-01T13:53:24.285567Z",
     "iopub.status.busy": "2023-08-01T13:53:24.284241Z",
     "iopub.status.idle": "2023-08-01T13:53:24.367020Z",
     "shell.execute_reply": "2023-08-01T13:53:24.365961Z"
    },
    "papermill": {
     "duration": 0.098177,
     "end_time": "2023-08-01T13:53:24.369908",
     "exception": false,
     "start_time": "2023-08-01T13:53:24.271731",
     "status": "completed"
    },
    "tags": []
   },
   "outputs": [],
   "source": [
    "train.loc[miss_values, 'Outlet_Size'] = train.loc[miss_values,'Outlet_Type'].apply(lambda x: mode_of_Outlet_size[x])"
   ]
  },
  {
   "cell_type": "code",
   "execution_count": 15,
   "id": "a1db8abc",
   "metadata": {
    "execution": {
     "iopub.execute_input": "2023-08-01T13:53:24.394190Z",
     "iopub.status.busy": "2023-08-01T13:53:24.392934Z",
     "iopub.status.idle": "2023-08-01T13:53:24.428705Z",
     "shell.execute_reply": "2023-08-01T13:53:24.427505Z"
    },
    "papermill": {
     "duration": 0.050668,
     "end_time": "2023-08-01T13:53:24.431314",
     "exception": false,
     "start_time": "2023-08-01T13:53:24.380646",
     "status": "completed"
    },
    "tags": []
   },
   "outputs": [
    {
     "data": {
      "text/plain": [
       "Item_Identifier              0\n",
       "Item_Weight                  0\n",
       "Item_Fat_Content             0\n",
       "Item_Visibility              0\n",
       "Item_Type                    0\n",
       "Item_MRP                     0\n",
       "Outlet_Identifier            0\n",
       "Outlet_Establishment_Year    0\n",
       "Outlet_Size                  0\n",
       "Outlet_Location_Type         0\n",
       "Outlet_Type                  0\n",
       "Item_Outlet_Sales            0\n",
       "dtype: int64"
      ]
     },
     "execution_count": 15,
     "metadata": {},
     "output_type": "execute_result"
    }
   ],
   "source": [
    "train.isna().sum()"
   ]
  },
  {
   "cell_type": "markdown",
   "id": "dfc13ddb",
   "metadata": {
    "papermill": {
     "duration": 0.010463,
     "end_time": "2023-08-01T13:53:24.452462",
     "exception": false,
     "start_time": "2023-08-01T13:53:24.441999",
     "status": "completed"
    },
    "tags": []
   },
   "source": [
    "# Data Analysis"
   ]
  },
  {
   "cell_type": "code",
   "execution_count": 16,
   "id": "33f6b267",
   "metadata": {
    "execution": {
     "iopub.execute_input": "2023-08-01T13:53:24.476361Z",
     "iopub.status.busy": "2023-08-01T13:53:24.475580Z",
     "iopub.status.idle": "2023-08-01T13:53:24.512261Z",
     "shell.execute_reply": "2023-08-01T13:53:24.510969Z"
    },
    "papermill": {
     "duration": 0.051863,
     "end_time": "2023-08-01T13:53:24.514980",
     "exception": false,
     "start_time": "2023-08-01T13:53:24.463117",
     "status": "completed"
    },
    "tags": []
   },
   "outputs": [
    {
     "data": {
      "text/html": [
       "<div>\n",
       "<style scoped>\n",
       "    .dataframe tbody tr th:only-of-type {\n",
       "        vertical-align: middle;\n",
       "    }\n",
       "\n",
       "    .dataframe tbody tr th {\n",
       "        vertical-align: top;\n",
       "    }\n",
       "\n",
       "    .dataframe thead th {\n",
       "        text-align: right;\n",
       "    }\n",
       "</style>\n",
       "<table border=\"1\" class=\"dataframe\">\n",
       "  <thead>\n",
       "    <tr style=\"text-align: right;\">\n",
       "      <th></th>\n",
       "      <th>Item_Weight</th>\n",
       "      <th>Item_Visibility</th>\n",
       "      <th>Item_MRP</th>\n",
       "      <th>Outlet_Establishment_Year</th>\n",
       "      <th>Item_Outlet_Sales</th>\n",
       "    </tr>\n",
       "  </thead>\n",
       "  <tbody>\n",
       "    <tr>\n",
       "      <th>count</th>\n",
       "      <td>8523.000000</td>\n",
       "      <td>8523.000000</td>\n",
       "      <td>8523.000000</td>\n",
       "      <td>8523.000000</td>\n",
       "      <td>8523.000000</td>\n",
       "    </tr>\n",
       "    <tr>\n",
       "      <th>mean</th>\n",
       "      <td>12.857645</td>\n",
       "      <td>0.066132</td>\n",
       "      <td>140.992782</td>\n",
       "      <td>1997.831867</td>\n",
       "      <td>2181.288914</td>\n",
       "    </tr>\n",
       "    <tr>\n",
       "      <th>std</th>\n",
       "      <td>4.226124</td>\n",
       "      <td>0.051598</td>\n",
       "      <td>62.275067</td>\n",
       "      <td>8.371760</td>\n",
       "      <td>1706.499616</td>\n",
       "    </tr>\n",
       "    <tr>\n",
       "      <th>min</th>\n",
       "      <td>4.555000</td>\n",
       "      <td>0.000000</td>\n",
       "      <td>31.290000</td>\n",
       "      <td>1985.000000</td>\n",
       "      <td>33.290000</td>\n",
       "    </tr>\n",
       "    <tr>\n",
       "      <th>25%</th>\n",
       "      <td>9.310000</td>\n",
       "      <td>0.026989</td>\n",
       "      <td>93.826500</td>\n",
       "      <td>1987.000000</td>\n",
       "      <td>834.247400</td>\n",
       "    </tr>\n",
       "    <tr>\n",
       "      <th>50%</th>\n",
       "      <td>12.857645</td>\n",
       "      <td>0.053931</td>\n",
       "      <td>143.012800</td>\n",
       "      <td>1999.000000</td>\n",
       "      <td>1794.331000</td>\n",
       "    </tr>\n",
       "    <tr>\n",
       "      <th>75%</th>\n",
       "      <td>16.000000</td>\n",
       "      <td>0.094585</td>\n",
       "      <td>185.643700</td>\n",
       "      <td>2004.000000</td>\n",
       "      <td>3101.296400</td>\n",
       "    </tr>\n",
       "    <tr>\n",
       "      <th>max</th>\n",
       "      <td>21.350000</td>\n",
       "      <td>0.328391</td>\n",
       "      <td>266.888400</td>\n",
       "      <td>2009.000000</td>\n",
       "      <td>13086.964800</td>\n",
       "    </tr>\n",
       "  </tbody>\n",
       "</table>\n",
       "</div>"
      ],
      "text/plain": [
       "       Item_Weight  Item_Visibility     Item_MRP  Outlet_Establishment_Year  \\\n",
       "count  8523.000000      8523.000000  8523.000000                8523.000000   \n",
       "mean     12.857645         0.066132   140.992782                1997.831867   \n",
       "std       4.226124         0.051598    62.275067                   8.371760   \n",
       "min       4.555000         0.000000    31.290000                1985.000000   \n",
       "25%       9.310000         0.026989    93.826500                1987.000000   \n",
       "50%      12.857645         0.053931   143.012800                1999.000000   \n",
       "75%      16.000000         0.094585   185.643700                2004.000000   \n",
       "max      21.350000         0.328391   266.888400                2009.000000   \n",
       "\n",
       "       Item_Outlet_Sales  \n",
       "count        8523.000000  \n",
       "mean         2181.288914  \n",
       "std          1706.499616  \n",
       "min            33.290000  \n",
       "25%           834.247400  \n",
       "50%          1794.331000  \n",
       "75%          3101.296400  \n",
       "max         13086.964800  "
      ]
     },
     "execution_count": 16,
     "metadata": {},
     "output_type": "execute_result"
    }
   ],
   "source": [
    "train.describe()"
   ]
  },
  {
   "cell_type": "code",
   "execution_count": 17,
   "id": "ca0be47e",
   "metadata": {
    "execution": {
     "iopub.execute_input": "2023-08-01T13:53:24.539838Z",
     "iopub.status.busy": "2023-08-01T13:53:24.539071Z",
     "iopub.status.idle": "2023-08-01T13:53:24.546843Z",
     "shell.execute_reply": "2023-08-01T13:53:24.545612Z"
    },
    "papermill": {
     "duration": 0.023402,
     "end_time": "2023-08-01T13:53:24.549505",
     "exception": false,
     "start_time": "2023-08-01T13:53:24.526103",
     "status": "completed"
    },
    "tags": []
   },
   "outputs": [],
   "source": [
    "def outlier(data,col):\n",
    "    twenty_five_percentile=data[col].quantile(0.25)\n",
    "    seventy_five_percentile=data[col].quantile(0.75)\n",
    "    iqr=seventy_five_percentile-twenty_five_percentile\n",
    "    upper=seventy_five_percentile+(iqr*1.5)\n",
    "    lower=twenty_five_percentile-(iqr*1.5)\n",
    "    print(data[(data[col]<lower) | (data[col]>upper)])"
   ]
  },
  {
   "cell_type": "code",
   "execution_count": 18,
   "id": "79824489",
   "metadata": {
    "execution": {
     "iopub.execute_input": "2023-08-01T13:53:24.574118Z",
     "iopub.status.busy": "2023-08-01T13:53:24.573207Z",
     "iopub.status.idle": "2023-08-01T13:53:24.585606Z",
     "shell.execute_reply": "2023-08-01T13:53:24.584542Z"
    },
    "papermill": {
     "duration": 0.027954,
     "end_time": "2023-08-01T13:53:24.588525",
     "exception": false,
     "start_time": "2023-08-01T13:53:24.560571",
     "status": "completed"
    },
    "tags": []
   },
   "outputs": [
    {
     "name": "stdout",
     "output_type": "stream",
     "text": [
      "Empty DataFrame\n",
      "Columns: [Item_Identifier, Item_Weight, Item_Fat_Content, Item_Visibility, Item_Type, Item_MRP, Outlet_Identifier, Outlet_Establishment_Year, Outlet_Size, Outlet_Location_Type, Outlet_Type, Item_Outlet_Sales]\n",
      "Index: []\n"
     ]
    }
   ],
   "source": [
    "outlier(train,\"Item_Weight\")"
   ]
  },
  {
   "cell_type": "code",
   "execution_count": 19,
   "id": "ec93b6c1",
   "metadata": {
    "execution": {
     "iopub.execute_input": "2023-08-01T13:53:24.618784Z",
     "iopub.status.busy": "2023-08-01T13:53:24.617824Z",
     "iopub.status.idle": "2023-08-01T13:53:24.646832Z",
     "shell.execute_reply": "2023-08-01T13:53:24.644047Z"
    },
    "papermill": {
     "duration": 0.047882,
     "end_time": "2023-08-01T13:53:24.651143",
     "exception": false,
     "start_time": "2023-08-01T13:53:24.603261",
     "status": "completed"
    },
    "tags": []
   },
   "outputs": [
    {
     "name": "stdout",
     "output_type": "stream",
     "text": [
      "     Item_Identifier  Item_Weight Item_Fat_Content  Item_Visibility  \\\n",
      "49             FDS02    12.857645          Regular         0.255395   \n",
      "83             NCL18    12.857645          Low Fat         0.293418   \n",
      "108            DRE60    12.857645          low fat         0.278974   \n",
      "174            FDI32    17.700000          Low Fat         0.291865   \n",
      "334            FDC41    12.857645          Low Fat         0.204700   \n",
      "...              ...          ...              ...              ...   \n",
      "8292           FDF56    12.857645          Regular         0.209163   \n",
      "8345           FDY28    12.857645          Regular         0.266397   \n",
      "8371           DRA59     8.270000          Regular         0.214125   \n",
      "8432           FDI16    14.000000          Regular         0.227261   \n",
      "8509           FDG45     8.100000          Low Fat         0.214306   \n",
      "\n",
      "                  Item_Type  Item_MRP Outlet_Identifier  \\\n",
      "49                    Dairy  196.8794            OUT019   \n",
      "83                Household  194.6136            OUT019   \n",
      "108             Soft Drinks  225.3720            OUT019   \n",
      "174   Fruits and Vegetables  115.1834            OUT010   \n",
      "334            Frozen Foods   76.8670            OUT019   \n",
      "...                     ...       ...               ...   \n",
      "8292  Fruits and Vegetables  179.1976            OUT019   \n",
      "8345           Frozen Foods  215.6218            OUT019   \n",
      "8371            Soft Drinks  183.9924            OUT010   \n",
      "8432           Frozen Foods   54.3640            OUT010   \n",
      "8509  Fruits and Vegetables  213.9902            OUT010   \n",
      "\n",
      "      Outlet_Establishment_Year Outlet_Size Outlet_Location_Type  \\\n",
      "49                         1985       Small               Tier 1   \n",
      "83                         1985       Small               Tier 1   \n",
      "108                        1985       Small               Tier 1   \n",
      "174                        1998       Small               Tier 3   \n",
      "334                        1985       Small               Tier 1   \n",
      "...                         ...         ...                  ...   \n",
      "8292                       1985       Small               Tier 1   \n",
      "8345                       1985       Small               Tier 1   \n",
      "8371                       1998       Small               Tier 3   \n",
      "8432                       1998       Small               Tier 3   \n",
      "8509                       1998       Small               Tier 3   \n",
      "\n",
      "        Outlet_Type  Item_Outlet_Sales  \n",
      "49    Grocery Store           780.3176  \n",
      "83    Grocery Store           583.2408  \n",
      "108   Grocery Store           679.1160  \n",
      "174   Grocery Store           345.5502  \n",
      "334   Grocery Store           229.7010  \n",
      "...             ...                ...  \n",
      "8292  Grocery Store           543.2928  \n",
      "8345  Grocery Store           641.1654  \n",
      "8371  Grocery Store           185.0924  \n",
      "8432  Grocery Store           159.7920  \n",
      "8509  Grocery Store           424.7804  \n",
      "\n",
      "[144 rows x 12 columns]\n"
     ]
    }
   ],
   "source": [
    "outlier(train,\"Item_Visibility\")"
   ]
  },
  {
   "cell_type": "code",
   "execution_count": null,
   "id": "c62d4773",
   "metadata": {
    "papermill": {
     "duration": 0.013197,
     "end_time": "2023-08-01T13:53:24.679892",
     "exception": false,
     "start_time": "2023-08-01T13:53:24.666695",
     "status": "completed"
    },
    "tags": []
   },
   "outputs": [],
   "source": []
  }
 ],
 "metadata": {
  "kernelspec": {
   "display_name": "Python 3",
   "language": "python",
   "name": "python3"
  },
  "language_info": {
   "codemirror_mode": {
    "name": "ipython",
    "version": 3
   },
   "file_extension": ".py",
   "mimetype": "text/x-python",
   "name": "python",
   "nbconvert_exporter": "python",
   "pygments_lexer": "ipython3",
   "version": "3.10.12"
  },
  "papermill": {
   "default_parameters": {},
   "duration": 21.001818,
   "end_time": "2023-08-01T13:53:26.964067",
   "environment_variables": {},
   "exception": null,
   "input_path": "__notebook__.ipynb",
   "output_path": "__notebook__.ipynb",
   "parameters": {},
   "start_time": "2023-08-01T13:53:05.962249",
   "version": "2.4.0"
  }
 },
 "nbformat": 4,
 "nbformat_minor": 5
}
